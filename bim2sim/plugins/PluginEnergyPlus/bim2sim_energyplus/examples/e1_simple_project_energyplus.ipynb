{
 "cells": [
  {
   "cell_type": "markdown",
   "id": "6682d007-d957-4f4d-90b4-63c4a843793b",
   "metadata": {},
   "source": [
    "# example e1 simple energyplus\n",
    "Run a building performance simulation with the EnergyPlus backend.\n",
    "\n",
    "This example runs a BPS with the EnergyPlus backend. Specifies project\n",
    "directory and location of the IFC file. Then, it creates a bim2sim\n",
    "project with the EnergyPlus backend. Simulation settings are specified\n",
    "(EnergyPlus location needs to be specified according to your system,\n",
    "other settings are set to default if not specified otherwise),\n",
    "before the project is executed with the previously specified settings."
   ]
  },
  {
   "cell_type": "markdown",
   "id": "a705ec04-1ee0-486e-8efe-177c51a0cbae",
   "metadata": {},
   "source": [
    "## code"
   ]
  },
  {
   "cell_type": "markdown",
   "id": "c331a1c5-5224-4c40-9b54-8e934d6627af",
   "metadata": {},
   "source": [
    "import needed libraries"
   ]
  },
  {
   "cell_type": "code",
   "execution_count": null,
   "id": "32fd9a6f-c713-4055-a8ee-6d2d414baea2",
   "metadata": {},
   "outputs": [],
   "source": [
    "import tempfile\n",
    "from pathlib import Path\n",
    "\n",
    "import bim2sim\n",
    "from bim2sim import Project, run_project, ConsoleDecisionHandler\n",
    "from bim2sim.utilities.types import IFCDomain\n"
   ]
  },
  {
   "cell_type": "markdown",
   "id": "5ad98dfd-c347-4d0c-be48-675e19cb9dff",
   "metadata": {},
   "source": [
    "Create a temp directory for the project, feel free to use a \"normal\" directory"
   ]
  },
  {
   "cell_type": "code",
   "execution_count": null,
   "id": "4500cfdc-7b25-4579-af2e-dbd40f5d867b",
   "metadata": {},
   "outputs": [],
   "source": [
    "project_path = Path(\n",
    "    tempfile.TemporaryDirectory(prefix='bim2sim_example1').name)\n",
    "print(project_path)"
   ]
  },
  {
   "cell_type": "markdown",
   "id": "3238131b-4a2a-4e3c-8567-9e472fcba877",
   "metadata": {},
   "source": [
    "Set the ifc path to use and define which domain the IFC belongs to"
   ]
  },
  {
   "cell_type": "code",
   "execution_count": null,
   "id": "38904733-1ea6-4b2f-809d-6bf1c0ad08ec",
   "metadata": {},
   "outputs": [],
   "source": [
    "ifc_paths = {\n",
    "    IFCDomain.arch:\n",
    "        Path(bim2sim.__file__).parent.parent /\n",
    "        'test/resources/arch/ifc/AC20-FZK-Haus.ifc',\n",
    "}"
   ]
  },
  {
   "cell_type": "markdown",
   "id": "1f027276-81a1-4ba6-baf5-59635d645a7d",
   "metadata": {},
   "source": [
    "Create a project including the folder structure for the project with energyplus as backend"
   ]
  },
  {
   "cell_type": "code",
   "execution_count": null,
   "id": "d8272676-0e7d-42b6-b8b5-795721dc9b72",
   "metadata": {},
   "outputs": [],
   "source": [
    "project = Project.create(project_path, ifc_paths, 'energyplus')"
   ]
  },
  {
   "cell_type": "markdown",
   "id": "1fc19ec7-2938-4207-80c6-44f7bda7e874",
   "metadata": {},
   "source": [
    "set weather file data"
   ]
  },
  {
   "cell_type": "code",
   "execution_count": null,
   "id": "6f68b4bb-a3ae-4133-a493-e962ecea125f",
   "metadata": {},
   "outputs": [],
   "source": [
    "project.sim_settings.weather_file_path = (\n",
    "        Path(bim2sim.__file__).parent.parent /\n",
    "        'test/resources/weather_files/DEU_NW_Aachen.105010_TMYx.epw')"
   ]
  },
  {
   "cell_type": "markdown",
   "id": "0f5870d3-2b18-41d2-ad7c-1449026c85d2",
   "metadata": {},
   "source": [
    "Set the install path to your EnergyPlus installation according to your system requirements"
   ]
  },
  {
   "cell_type": "code",
   "execution_count": null,
   "id": "12272577-1bc1-49d8-a7ca-376bbe13e3ec",
   "metadata": {},
   "outputs": [],
   "source": [
    "# project.sim_settings.ep_install_path = 'C://EnergyPlusV9-4-0/'"
   ]
  },
  {
   "cell_type": "markdown",
   "id": "cdf0ba04-4c85-4ae6-bb19-c25f1a85eccf",
   "metadata": {},
   "source": [
    "run annual simulation for EnergyPlus"
   ]
  },
  {
   "cell_type": "code",
   "execution_count": null,
   "id": "78084fa0-0b7a-453e-bd9c-7f67ba0f4033",
   "metadata": {},
   "outputs": [],
   "source": [
    "project.sim_settings.run_full_simulation = True"
   ]
  },
  {
   "cell_type": "markdown",
   "id": "d35ea608-3709-4632-aa26-e78cfea304e1",
   "metadata": {},
   "source": [
    "Set other simulation settings, otherwise all settings are set to default\n",
    "\n"
   ]
  },
  {
   "cell_type": "markdown",
   "id": "2b98737e-9568-4742-85e6-a2e45daeab92",
   "metadata": {},
   "source": [
    "create plots based on the results after simulation"
   ]
  },
  {
   "cell_type": "code",
   "execution_count": null,
   "id": "420ad718-41ff-41e0-a09f-8ee2a260ca90",
   "metadata": {},
   "outputs": [],
   "source": [
    "project.sim_settings.create_plots = True"
   ]
  },
  {
   "cell_type": "markdown",
   "id": "d9891c83-3a31-425b-80fd-f3f201b43245",
   "metadata": {},
   "source": [
    "Run the project with the ConsoleDecisionHandler. This allows interactive input to answer upcoming questions regarding the imported IFC."
   ]
  },
  {
   "cell_type": "code",
   "execution_count": null,
   "id": "b4691ebc-b2e7-4c59-acfa-6fd1318ee147",
   "metadata": {},
   "outputs": [],
   "source": [
    "run_project(project, ConsoleDecisionHandler())"
   ]
  },
  {
   "cell_type": "markdown",
   "id": "f16890b5-d89b-461b-a41e-2f2ef25fd586",
   "metadata": {},
   "source": [
    "### plot files\n",
    "- files are stored in the project folder\n",
    "  - [/tmp/bim2sim_example1yo87g2xb]/export/EnergyPlus/SimResults/AC20-FZK-Haus/plots"
   ]
  }
 ],
 "metadata": {
  "kernelspec": {
   "display_name": "bim2sim_311",
   "language": "python",
   "name": "bim2sim_311"
  },
  "language_info": {
   "codemirror_mode": {
    "name": "ipython",
    "version": 3
   },
   "file_extension": ".py",
   "mimetype": "text/x-python",
   "name": "python",
   "nbconvert_exporter": "python",
   "pygments_lexer": "ipython3",
   "version": "3.11.10"
  }
 },
 "nbformat": 4,
 "nbformat_minor": 5
}
